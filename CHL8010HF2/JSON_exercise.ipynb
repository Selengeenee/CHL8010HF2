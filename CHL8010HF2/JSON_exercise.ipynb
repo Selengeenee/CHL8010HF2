{
 "cells": [
  {
   "cell_type": "code",
   "execution_count": 7,
   "id": "03b8b95b-13fb-4248-ae0f-d0a9054d9690",
   "metadata": {},
   "outputs": [],
   "source": [
    "import json\n",
    "import pandas as pd"
   ]
  },
  {
   "cell_type": "code",
   "execution_count": 8,
   "id": "362e3baf-df38-4448-8ada-d5947049eb4a",
   "metadata": {},
   "outputs": [],
   "source": [
    "# Set file paths\n",
    "\n",
    "input_file = \"data/patientExample.json\""
   ]
  },
  {
   "cell_type": "code",
   "execution_count": 9,
   "id": "0fe07a3c-3e6c-4828-980d-165465f67db2",
   "metadata": {},
   "outputs": [
    {
     "name": "stdout",
     "output_type": "stream",
     "text": [
      "{'resourceType': 'Patient', 'id': 'example', 'identifier': [{'use': 'usual', 'type': {'coding': [{'system': 'http://terminology.hl7.org/CodeSystem/v2-0203', 'code': 'MR'}]}, 'system': 'urn:oid:1.2.36.146.595.217.0.1', 'value': '12345', 'period': {'start': '2001-05-06'}, 'assigner': {'display': 'Acme Healthcare'}}], 'active': True, 'name': [{'use': 'official', 'family': 'Chalmers', 'given': ['Peter', 'James']}, {'use': 'usual', 'given': ['Jim']}, {'use': 'maiden', 'family': 'Windsor', 'given': ['Peter', 'James'], 'period': {'end': '2002'}}], 'telecom': [{'use': 'home'}, {'system': 'phone', 'value': '(03) 5555 6473', 'use': 'work', 'rank': 1}, {'system': 'phone', 'value': '(03) 3410 5613', 'use': 'mobile', 'rank': 2}, {'system': 'phone', 'value': '(03) 5555 8834', 'use': 'old', 'period': {'end': '2014'}}], 'gender': 'male', 'birthDate': '1974-12-25', '_birthDate': {'extension': [{'url': 'http://hl7.org/fhir/StructureDefinition/patient-birthTime', 'valueDateTime': '1974-12-25T14:35:45-05:00'}]}, 'deceasedBoolean': False, 'address': [{'use': 'home', 'type': 'both', 'text': '534 Erewhon St PeasantVille, Rainbow, Vic  3999', 'line': ['534 Erewhon St'], 'city': 'PleasantVille', 'district': 'Rainbow', 'state': 'Vic', 'postalCode': '3999', 'period': {'start': '1974-12-25'}}], 'contact': [{'relationship': [{'coding': [{'system': 'http://terminology.hl7.org/CodeSystem/v2-0131', 'code': 'N'}]}], 'name': {'family': 'du MarchÃƒÂ©', '_family': {'extension': [{'url': 'http://hl7.org/fhir/StructureDefinition/humanname-own-prefix', 'valueString': 'VV'}]}, 'given': ['BÃƒÂ©nÃƒÂ©dicte']}, 'additionalName': [{'use': 'nickname', 'given': ['BÃƒÂ©nÃƒÂ©']}], 'telecom': [{'system': 'phone', 'value': '+33 (237) 998327'}], 'address': {'use': 'home', 'type': 'both', 'line': ['534 Erewhon St'], 'city': 'PleasantVille', 'district': 'Rainbow', 'state': 'Vic', 'postalCode': '3999', 'period': {'start': '1974-12-25'}}, 'additionalAddress': [{'use': 'work', 'line': ['123 Smart St'], 'city': 'PleasantVille', 'state': 'Vic', 'postalCode': '3999'}], 'gender': 'female', 'period': {'start': '2012'}}], 'managingOrganization': {'reference': 'Organization/1'}}\n"
     ]
    }
   ],
   "source": [
    "# Load JSON file\n",
    "with open(input_file, \"r\") as f:\n",
    "    data = json.load(f)\n",
    "\n",
    "print(data)"
   ]
  },
  {
   "cell_type": "code",
   "execution_count": 17,
   "id": "fb380bcb-180d-4cc1-81c6-10c2badc6779",
   "metadata": {},
   "outputs": [],
   "source": [
    "# create an empty dictionary as it lets you associate keys with values, which is ideal for representing JSON object\n",
    "# on the contrary, lists just hold values by position (index), not by named \"resourceType\": data.get(\"resourceType\", \"\"),\n",
    "# Create dictionary to store extracted fields\n",
    "# Create dictionary to store extracted fields\n",
    "dictData = {\n",
    "    \"resourceType\": data.get(\"resourceType\", \"\"),\n",
    "    \"id\": data.get(\"id\", \"\"),\n",
    "    \"gender\": data.get(\"gender\", \"\"),\n",
    "    \"birthDate\": data.get(\"birthDate\", \"\"),\n",
    "    \"deceasedBoolean\": data.get(\"deceasedBoolean\", False),\n",
    "    \"first_name\": \"\",\n",
    "    \"last_name\": \"\",\n",
    "    \"identifier_value\": \"\",\n",
    "    \"home_phone\": \"\",\n",
    "    \"work_phone\": \"\",\n",
    "    \"address_city\": \"\",\n",
    "    \"address_state\": \"\"\n",
    "}\n",
    "\n",
    "# Extract first_name and last_name from the 'name' list (use first 'official' name)\n",
    "for name_entry in data.get(\"name\", []):\n",
    "    if name_entry.get(\"use\") == \"official\":\n",
    "        dictData[\"first_name\"] = \" \".join(name_entry.get(\"given\", []))  # Join given names\n",
    "        dictData[\"last_name\"] = name_entry.get(\"family\", \"\")\n",
    "        break\n",
    "\n",
    "# Extract identifier value from the 'identifier' list (use first entry)\n",
    "if data.get(\"identifier\"):\n",
    "    dictData[\"identifier_value\"] = data[\"identifier\"][0].get(\"value\", \"\")\n",
    "\n",
    "# Extract home_phone and work_phone from the 'telecom' list\n",
    "telecom_list = data.get(\"telecom\", [])\n",
    "for telecom in telecom_list:\n",
    "    if telecom.get(\"use\") == \"home\":\n",
    "        dictData[\"home_phone\"] = telecom.get(\"value\", \"\")  # Assign empty string if no value\n",
    "    elif telecom.get(\"use\") == \"work\" and telecom.get(\"system\") == \"phone\":\n",
    "        dictData[\"work_phone\"] = telecom.get(\"value\", \"\")\n",
    "\n",
    "# Extract city and state from the 'address' list (use first entry)\n",
    "if data.get(\"address\"):\n",
    "    dictData[\"address_city\"] = data[\"address\"][0].get(\"city\", \"\")\n",
    "    dictData[\"address_state\"] = data[\"address\"][0].get(\"state\", \"\")"
   ]
  },
  {
   "cell_type": "code",
   "execution_count": 19,
   "id": "b05e2d4a-1969-49da-bf44-6e99610f7598",
   "metadata": {},
   "outputs": [
    {
     "name": "stdout",
     "output_type": "stream",
     "text": [
      "  resourceType       id gender   birthDate  deceasedBoolean   first_name  \\\n",
      "0      Patient  example   male  1974-12-25            False  Peter James   \n",
      "\n",
      "  last_name identifier_value home_phone      work_phone   address_city  \\\n",
      "0  Chalmers            12345             (03) 5555 6473  PleasantVille   \n",
      "\n",
      "  address_state  \n",
      "0           Vic  \n"
     ]
    }
   ],
   "source": [
    "# Convert to DataFrame\n",
    "# [dictData] is to create a DataFrame with one row, using the keys as column\n",
    "df = pd.DataFrame([dictData])\n",
    "\n",
    "# Show DataFrame\n",
    "print(df)"
   ]
  },
  {
   "cell_type": "code",
   "execution_count": null,
   "id": "87ca1fc8-de73-4894-9b1e-5c74ca84b71b",
   "metadata": {},
   "outputs": [],
   "source": [
    "## Flowchart Description\n",
    "The process of parsing `patientExample.json` into a DataFrame is outlined below:\n",
    "\n",
    "1. **Start**\n",
    "2. **Load JSON file → Store in 'data'**: Read the JSON file and store its contents in the `data` variable.\n",
    "3. **Initialize dictData with default values**: Create a dictionary `dictData` with default values for all fields.\n",
    "4. **Extract top-level fields (resourceType, id, gender, birthDate, deceasedBoolean)**: Populate `dictData` with top-level JSON fields.\n",
    "5. **Loop through 'name' list**: Iterate over the `name` list in the JSON.\n",
    "   - **If 'use' == 'official'**: \n",
    "     - Set `first_name` by joining the `given` names.\n",
    "     - Set `last_name` from the `family` field.\n",
    "     - Break the loop to use the first official name.\n",
    "   - If not official, continue looping.\n",
    "6. **Extract 'identifier[0].value' → Set identifier_value**: Extract the value from the first `identifier` entry.\n",
    "7. **Loop through 'telecom' list**: Iterate over the `telecom` list.\n",
    "   - **If 'use' == 'home'**: Set `home_phone` to the `value`.\n",
    "   - **If 'use' == 'work' and system == 'phone'**: Set `work_phone` to the `value`.\n",
    "   - If neither condition is met, proceed.\n",
    "8. **Extract 'address[0].city' → Set address_city**: Extract the `city` from the first `address` entry.\n",
    "9. **Extract 'address[0].state' → Set address_state**: Extract the `state` from the first `address` entry.\n",
    "10. **Convert dictData to DataFrame**: Convert the `dictData` dictionary into a Pandas DataFrame.\n",
    "11. **Display DataFrame**: Print the DataFrame to the output.\n",
    "12. **End**"
   ]
  },
  {
   "cell_type": "markdown",
   "id": "31e5a94c-906a-4ea1-be50-abc1486883fd",
   "metadata": {},
   "source": [
    "## Flowchart\n",
    "![Flowchart Description](flowchart.png)"
   ]
  },
  {
   "cell_type": "code",
   "execution_count": null,
   "id": "76316919-b75f-4d8b-b40a-aec43d1d9074",
   "metadata": {},
   "outputs": [],
   "source": []
  }
 ],
 "metadata": {
  "kernelspec": {
   "display_name": "Python 3 (ipykernel)",
   "language": "python",
   "name": "python3"
  },
  "language_info": {
   "codemirror_mode": {
    "name": "ipython",
    "version": 3
   },
   "file_extension": ".py",
   "mimetype": "text/x-python",
   "name": "python",
   "nbconvert_exporter": "python",
   "pygments_lexer": "ipython3",
   "version": "3.10.18"
  }
 },
 "nbformat": 4,
 "nbformat_minor": 5
}
