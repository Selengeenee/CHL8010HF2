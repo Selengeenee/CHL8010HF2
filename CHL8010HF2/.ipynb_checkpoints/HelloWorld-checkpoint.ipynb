{
 "cells": [
  {
   "cell_type": "code",
   "execution_count": 1,
   "id": "ae9eff19-d405-4933-a989-cba58ee13a22",
   "metadata": {},
   "outputs": [
    {
     "name": "stdout",
     "output_type": "stream",
     "text": [
      "Hello world!\n"
     ]
    }
   ],
   "source": [
    "print(\"Hello world!\")"
   ]
  },
  {
   "cell_type": "code",
   "execution_count": 2,
   "id": "692d0aa3-c7c3-4e9a-8056-1ca5ca0e9882",
   "metadata": {},
   "outputs": [
    {
     "name": "stdout",
     "output_type": "stream",
     "text": [
      "0\n",
      "1\n",
      "2\n",
      "3\n",
      "4\n",
      "done\n"
     ]
    }
   ],
   "source": [
    "for i in range(5):\n",
    "    print(i)\n",
    "print(\"done\")"
   ]
  },
  {
   "cell_type": "code",
   "execution_count": 3,
   "id": "17f77579-732a-49d6-85f3-38b10fbc3a69",
   "metadata": {},
   "outputs": [
    {
     "name": "stdin",
     "output_type": "stream",
     "text": [
      "Enter patient’s age:  100\n"
     ]
    },
    {
     "name": "stdout",
     "output_type": "stream",
     "text": [
      "Patient is an older adult.\n"
     ]
    }
   ],
   "source": [
    "age = int(input(\"Enter patient’s age: \"))\n",
    "if age < 18:\n",
    "    print(\"Patient is a child.\")\n",
    "elif age < 65:\n",
    "    print(\"Patient is an adult.\")\n",
    "else:\n",
    "    print(\"Patient is an older adult.\")"
   ]
  },
  {
   "cell_type": "code",
   "execution_count": 4,
   "id": "4ea6dc9a-f24e-455e-963a-442d339b25e2",
   "metadata": {},
   "outputs": [
    {
     "name": "stdout",
     "output_type": "stream",
     "text": [
      "3.14 CAD are worth US$100\n"
     ]
    }
   ],
   "source": [
    "value = 3.14159\n",
    "currency = \"CAD\"\n",
    "amount = 100\n",
    "print(f\"{value:.2f} {currency} are worth US${amount:d}\")"
   ]
  },
  {
   "cell_type": "code",
   "execution_count": 5,
   "id": "64771774-8336-4c79-b28e-88fe1429acb8",
   "metadata": {},
   "outputs": [
    {
     "name": "stdout",
     "output_type": "stream",
     "text": [
      "John Doe\n",
      "45\n",
      "175\n"
     ]
    }
   ],
   "source": [
    "class HealthRecord:\n",
    "    def __init__(self, patient_name, age, height):\n",
    "        self.patient_name = patient_name\n",
    "        self.age = age\n",
    "        self.height = height\n",
    "    def displayRecord(self):\n",
    "        print(self.patient_name)\n",
    "        print(self.age)\n",
    "        print(self.height)\n",
    "\n",
    "record1 = HealthRecord(\"John Doe\", 45, 175)\n",
    "record1.displayRecord()"
   ]
  },
  {
   "cell_type": "code",
   "execution_count": 6,
   "id": "0aac49e9-fd77-4582-9e2d-48adf517220d",
   "metadata": {},
   "outputs": [
    {
     "name": "stdout",
     "output_type": "stream",
     "text": [
      "[1, 2, 3, 4, 5, 6]\n"
     ]
    }
   ],
   "source": [
    "numbers = [1, 2, 3, 4, 5]\n",
    "numbers.append(6)\n",
    "print(numbers)"
   ]
  }
 ],
 "metadata": {
  "kernelspec": {
   "display_name": "Python 3 (ipykernel)",
   "language": "python",
   "name": "python3"
  },
  "language_info": {
   "codemirror_mode": {
    "name": "ipython",
    "version": 3
   },
   "file_extension": ".py",
   "mimetype": "text/x-python",
   "name": "python",
   "nbconvert_exporter": "python",
   "pygments_lexer": "ipython3",
   "version": "3.10.18"
  }
 },
 "nbformat": 4,
 "nbformat_minor": 5
}
