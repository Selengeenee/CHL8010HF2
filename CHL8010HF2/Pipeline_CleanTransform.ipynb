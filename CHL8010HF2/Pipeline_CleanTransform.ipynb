{
 "cells": [
  {
   "cell_type": "code",
   "execution_count": 1,
   "id": "c4ab0a71-9c25-48cc-81d0-07d412df3359",
   "metadata": {},
   "outputs": [
    {
     "name": "stdout",
     "output_type": "stream",
     "text": [
      "Libraries loaded successfully!\n"
     ]
    }
   ],
   "source": [
    "import pandas as pd\n",
    "import janitor\n",
    "print(\"Libraries loaded successfully!\")"
   ]
  },
  {
   "cell_type": "code",
   "execution_count": 2,
   "id": "9683d916-96cb-46e6-917f-bb56ff246d95",
   "metadata": {},
   "outputs": [],
   "source": [
    "# functions to clean and transform\n",
    "\n",
    "def cleanRedundancies (data, columns_to_keep):\n",
    "\n",
    "    data = data[columns_to_keep]\n",
    "    data = data.drop_duplicates(subset=columns_to_keep)\n",
    "\n",
    "    return data\n",
    "\n",
    "def fixIntType (data, columns):\n",
    "\n",
    "    for c in columns:\n",
    "        data[c] = pd.to_numeric(data[c], errors='coerce').astype('Int64')\n",
    "\n",
    "    return data \n",
    "\n",
    "def fixMixedType (data, columns):\n",
    "\n",
    "    for c in columns:\n",
    "        data[c] = data[c].astype(str).str.replace(r'[^0-9.\\-]', '', regex=True)\n",
    "        data[c] = pd.to_numeric(data[c], errors='coerce')\n",
    "\n",
    "    return data\n",
    "\n",
    "def fixDateType (data, columns):\n",
    "\n",
    "    for c in columns:\n",
    "        data[c] = pd.to_datetime(data[c], errors='coerce')\n",
    "\n",
    "    return data"
   ]
  },
  {
   "cell_type": "code",
   "execution_count": 3,
   "id": "56afe97f-5280-4b94-87f2-20c04e7540c0",
   "metadata": {},
   "outputs": [],
   "source": [
    "# execution phase\n",
    "\n",
    "filenames = ['encounterDiagnosis.vSn','HealthCondition.vSn']\n",
    "\n",
    "for f in filenames:\n",
    "    # setting low_memory=False implies reading the whole data before inferring types\n",
    "    df = pd.read_csv('data/' + f + '.csv', low_memory=False)\n",
    "\n",
    "    # ----------- standardized clean and transform steps for all tables\n",
    "    \n",
    "    # initialize column names of variables relevant to research objective\n",
    "    columns_to_keep = []\n",
    "    columns_int_type = []\n",
    "    columns_date_type = []\n",
    "    columns_mixed_type = ['DiagnosisCode_calc']\n",
    "\n",
    "    # conditions of setting column names specific to data files that will be used\n",
    "    if f == 'encounterDiagnosis.vSn':\n",
    "        columns_to_keep = ['EncounterDiagnosis_ID','Patient_ID','DiagnosisText_calc','DiagnosisCode_calc','DateCreated']\n",
    "        columns_int_type = ['EncounterDiagnosis_ID','Patient_ID']\n",
    "        columns_date_type = ['DateCreated']\n",
    "        \n",
    "    elif f == 'HealthCondition.vSn':\n",
    "        columns_to_keep = ['HealthCondition_ID','Patient_ID','DiagnosisText_calc','DiagnosisCode_calc','DateOfOnset','SignificantNegativeFlag','ActiveInactiveFlag','DateCreated']\n",
    "        columns_int_type = ['HealthCondition_ID','Patient_ID']\n",
    "        columns_date_type = ['DateOfOnset','DateCreated']\n",
    "\n",
    "    # calling clean and transform functions\n",
    "    df_clean = cleanRedundancies(df, columns_to_keep)\n",
    "    df_clean = fixMixedType(df_clean, columns_mixed_type)\n",
    "    df_clean = fixIntType(df_clean, columns_int_type)\n",
    "    df_clean = fixDateType(df_clean, columns_date_type)\n",
    "\n",
    "    # ----------- export cleaned files in .csv\n",
    "    df_clean.to_csv(\"data/cleaned_\" + f + \".csv\", index=False)\n"
   ]
  },
  {
   "cell_type": "code",
   "execution_count": null,
   "id": "6d089f7a-0573-4f07-89a7-72ce56c710c5",
   "metadata": {},
   "outputs": [],
   "source": []
  }
 ],
 "metadata": {
  "kernelspec": {
   "display_name": "Python 3 (ipykernel)",
   "language": "python",
   "name": "python3"
  },
  "language_info": {
   "codemirror_mode": {
    "name": "ipython",
    "version": 3
   },
   "file_extension": ".py",
   "mimetype": "text/x-python",
   "name": "python",
   "nbconvert_exporter": "python",
   "pygments_lexer": "ipython3",
   "version": "3.13.2"
  }
 },
 "nbformat": 4,
 "nbformat_minor": 5
}
