{
 "cells": [
  {
   "cell_type": "code",
   "execution_count": 1,
   "id": "24913ee4-aece-4230-bb3f-d2e2f22b8425",
   "metadata": {},
   "outputs": [],
   "source": [
    "# import used for handling tabular data (dataframes, CSV, etc.)\n",
    "# import a library to make HTTP requests (like visiting a website)\n",
    "# import a tool to parse and extract content from HTML (web pages)\n",
    "import pandas as pd\n",
    "import requests\n",
    "from bs4 import BeautifulSoup"
   ]
  },
  {
   "cell_type": "code",
   "execution_count": 2,
   "id": "a9d9efc8-22b2-4019-a7c7-8c372a543be7",
   "metadata": {},
   "outputs": [],
   "source": [
    "# store the links of URLs you wish to scrape\n",
    "# in this example, we are using old Reddit as they are much easier to scrape than the modern site\n",
    "links = [\"https://old.reddit.com/r/canada/\",\n",
    "        \"https://old.reddit.com/r/publichealth/\",\n",
    "        \"https://old.reddit.com/r/depression/\"]"
   ]
  },
  {
   "cell_type": "code",
   "execution_count": 4,
   "id": "ae7501f8-05d7-46e8-aca3-0933965cdcdd",
   "metadata": {},
   "outputs": [],
   "source": [
    "# Import time to add delays between requests to respect server limits (slide 21)\n",
    "import time\n",
    "\n",
    "def scrape_to_dataframe(urls):\n",
    "    # Initialize an empty list to store scraped data as dictionaries\n",
    "    data = []\n",
    "    \n",
    "    # Set a user-agent header to mimic a browser and avoid bot detection (slide 23)\n",
    "    headers = {\n",
    "        'User-Agent': 'Mozilla/5.0 (Windows NT 10.0; Win64; x64) AppleWebKit/537.36 (KHTML, like Gecko) Chrome/91.0.4472.124 Safari/537.36'\n",
    "    }\n",
    "    \n",
    "    # Iterate through each URL in the provided list\n",
    "    for url in urls:\n",
    "        # Send a GET request to the URL with the user-agent header\n",
    "        response = requests.get(url, headers=headers)\n",
    "        \n",
    "        # Check if the request was successful (status code 200)\n",
    "        if response.status_code != 200:\n",
    "            # Print an error message if the request fails\n",
    "            print(f\"Failed to fetch {url}: Status code {response.status_code}\")\n",
    "            continue\n",
    "        \n",
    "        # Create a BeautifulSoup object to parse the HTML content (slide 23)\n",
    "        soup = BeautifulSoup(response.text, 'html.parser')\n",
    "        \n",
    "        # Find all post elements with class=\"thing\" (slide 22)\n",
    "        posts = soup.find_all('div', class_='thing')\n",
    "        \n",
    "        # Iterate over each post to extract title and upvotes\n",
    "        for post in posts:\n",
    "            # Extract title from <a class=\"title\"> within <p class=\"title\">\n",
    "            title_elem = post.find('p', class_='title')\n",
    "            title = title_elem.find('a', class_='title').text.strip() if title_elem and title_elem.find('a', class_='title') else 'No Title'\n",
    "            \n",
    "            # Extract upvotes from <div class=\"score\"> (or \"score unvoted\")\n",
    "            score_elem = post.find('div', class_='score')\n",
    "            upvotes = score_elem.text.strip() if score_elem and score_elem.text.strip() != '•' else '0'\n",
    "            \n",
    "            # Append a dictionary with url, title, and upvotes to the data list\n",
    "            data.append({\n",
    "                'url': url,\n",
    "                'title': title,\n",
    "                'upvotes': upvotes\n",
    "            })\n",
    "        \n",
    "        # Add a 2-second delay to avoid overwhelming the server (slide 21)\n",
    "        time.sleep(2)\n",
    "    \n",
    "    # Return the list of dictionaries containing scraped data\n",
    "    return data"
   ]
  },
  {
   "cell_type": "code",
   "execution_count": 7,
   "id": "9ffd73ad-7495-44e7-8b16-665146934bc2",
   "metadata": {},
   "outputs": [
    {
     "name": "stdout",
     "output_type": "stream",
     "text": [
      "                                     url  \\\n",
      "0       https://old.reddit.com/r/canada/   \n",
      "1       https://old.reddit.com/r/canada/   \n",
      "2       https://old.reddit.com/r/canada/   \n",
      "3       https://old.reddit.com/r/canada/   \n",
      "4       https://old.reddit.com/r/canada/   \n",
      "..                                   ...   \n",
      "81  https://old.reddit.com/r/depression/   \n",
      "82  https://old.reddit.com/r/depression/   \n",
      "83  https://old.reddit.com/r/depression/   \n",
      "84  https://old.reddit.com/r/depression/   \n",
      "85  https://old.reddit.com/r/depression/   \n",
      "\n",
      "                                                title upvotes  \n",
      "0     Saturdays and Sundays are now Opinion-free days     431  \n",
      "1   McIntosh sets world record in 400M freestyle a...    1190  \n",
      "2                          Witness the Rise of Ultron       6  \n",
      "3   Nearly 2 in 3 say Canada should not join Trump...    3169  \n",
      "4   Mexico’s relationship with Canada at a 6-year ...     787  \n",
      "..                                                ...     ...  \n",
      "81        can’t sleep and my brain will just not stop       3  \n",
      "82                                       On the verge       3  \n",
      "83                        Please can I talk to anyone      21  \n",
      "84                              wtf is wrong with me?       3  \n",
      "85                                Looking for advice.       0  \n",
      "\n",
      "[86 rows x 3 columns]\n",
      "Scraped data exported to reddit_posts.csv\n"
     ]
    }
   ],
   "source": [
    "# Call the scrape_to_dataframe function with the list of URLs\n",
    "data = scrape_to_dataframe(links)\n",
    "\n",
    "# Convert the list of dictionaries to a pandas DataFrame\n",
    "df = pd.DataFrame(data)\n",
    "\n",
    "# Print the DataFrame to verify the scraped data\n",
    "print(df)\n",
    "\n",
    "# Export the DataFrame to a CSV file in the data/ directory\n",
    "df.to_csv(\"data/reddit_posts.csv\", index=False)\n",
    "\n",
    "# Print a confirmation message\n",
    "print(\"Scraped data exported to reddit_posts.csv\")"
   ]
  }
 ],
 "metadata": {
  "kernelspec": {
   "display_name": "Python 3 (ipykernel)",
   "language": "python",
   "name": "python3"
  },
  "language_info": {
   "codemirror_mode": {
    "name": "ipython",
    "version": 3
   },
   "file_extension": ".py",
   "mimetype": "text/x-python",
   "name": "python",
   "nbconvert_exporter": "python",
   "pygments_lexer": "ipython3",
   "version": "3.10.18"
  }
 },
 "nbformat": 4,
 "nbformat_minor": 5
}
